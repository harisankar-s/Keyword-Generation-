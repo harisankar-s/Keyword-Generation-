{
 "cells": [
  {
   "cell_type": "markdown",
   "metadata": {},
   "source": [
    "# Generate keywords combinations for search engine marketing campaigns"
   ]
  },
  {
   "cell_type": "markdown",
   "metadata": {},
   "source": [
    "Utilizing Python, this is a recipe that shows how to generate different combinations of keywords and how to group them into their respective campaigns and ad groups. "
   ]
  },
  {
   "cell_type": "markdown",
   "metadata": {},
   "source": [
    "We first start by obtaining the two main sets of words that we will be using:\n",
    "\n",
    "1. Products: a list of all the products / services that we are trying to sell\n",
    "2. Keywords: a list of all the keywords that, used together with any of the keywords, indicate an intention to buy any of our products.\n",
    "\n",
    "For this example we will be generating keywords for an imaginary business that sells used cars online. For simplicity, let's assume that the following are available as products and keywords:\n",
    "\n",
    "1. Products: 'honda', 'honda accord', 'honda civic', 'toyota', 'toyota camry'\n",
    "2. Keywords: 'buy', 'price', 'second hand'\n",
    "The end result we are looking for, would be something like this:"
   ]
  },
  {
   "cell_type": "markdown",
   "metadata": {},
   "source": [
    "| Campaign | Ad Group | Keywords |Criterion Type\n",
    "| --- | --- | --- | --- |\n",
    "| SEM Cars | Toyota | buy toyota | Exact\n",
    "| SEM Cars | Toyota | buy toyota | Phrase\n",
    "| SEM Cars | Honda Accord | buy honda accord | Exact\n",
    "| SEM Cars | Honda Accord | buy honda accord second hand | Exact"
   ]
  },
  {
   "cell_type": "markdown",
   "metadata": {},
   "source": [
    "Let's start with a simple loop that combines the keywords with the products, without worrying about campaigns and ad groups for now."
   ]
  },
  {
   "cell_type": "code",
   "execution_count": 19,
   "metadata": {},
   "outputs": [
    {
     "name": "stdout",
     "output_type": "stream",
     "text": [
      "[['honda', 'honda buy'], ['honda', 'buy honda'], ['honda', 'honda price'], ['honda', 'price honda'], ['honda', 'honda second hand'], ['honda', 'second hand honda'], ['honda', 'honda cheap'], ['honda', 'cheap honda'], ['honda', 'honda lowest price'], ['honda', 'lowest price honda']]\n"
     ]
    }
   ],
   "source": [
    "products = ['honda', 'honda accord', 'honda civic', 'toyota', 'toyota camry']\n",
    "keywords =  ['buy', 'price', 'second hand','cheap','lowest price','low','used']\n",
    "keyword_list = [] # eventually, each line in this list will correspond to a keyword\n",
    "for car in products:\n",
    "    for word in keywords:\n",
    "        keyword_list.append([car, car + ' ' + word])\n",
    "        keyword_list.append([car, word + ' ' + car])\n",
    "print(keyword_list[:10])"
   ]
  },
  {
   "cell_type": "markdown",
   "metadata": {},
   "source": [
    "Now we can add the campaign name as well as the ad groups:"
   ]
  },
  {
   "cell_type": "code",
   "execution_count": 20,
   "metadata": {},
   "outputs": [
    {
     "data": {
      "text/html": [
       "<div>\n",
       "<style scoped>\n",
       "    .dataframe tbody tr th:only-of-type {\n",
       "        vertical-align: middle;\n",
       "    }\n",
       "\n",
       "    .dataframe tbody tr th {\n",
       "        vertical-align: top;\n",
       "    }\n",
       "\n",
       "    .dataframe thead th {\n",
       "        text-align: right;\n",
       "    }\n",
       "</style>\n",
       "<table border=\"1\" class=\"dataframe\">\n",
       "  <thead>\n",
       "    <tr style=\"text-align: right;\">\n",
       "      <th></th>\n",
       "      <th>Ad Group</th>\n",
       "      <th>Keyword</th>\n",
       "    </tr>\n",
       "  </thead>\n",
       "  <tbody>\n",
       "    <tr>\n",
       "      <th>0</th>\n",
       "      <td>honda</td>\n",
       "      <td>honda buy</td>\n",
       "    </tr>\n",
       "    <tr>\n",
       "      <th>1</th>\n",
       "      <td>honda</td>\n",
       "      <td>buy honda</td>\n",
       "    </tr>\n",
       "    <tr>\n",
       "      <th>2</th>\n",
       "      <td>honda</td>\n",
       "      <td>honda price</td>\n",
       "    </tr>\n",
       "    <tr>\n",
       "      <th>3</th>\n",
       "      <td>honda</td>\n",
       "      <td>price honda</td>\n",
       "    </tr>\n",
       "    <tr>\n",
       "      <th>4</th>\n",
       "      <td>honda</td>\n",
       "      <td>honda second hand</td>\n",
       "    </tr>\n",
       "  </tbody>\n",
       "</table>\n",
       "</div>"
      ],
      "text/plain": [
       "  Ad Group            Keyword\n",
       "0    honda          honda buy\n",
       "1    honda          buy honda\n",
       "2    honda        honda price\n",
       "3    honda        price honda\n",
       "4    honda  honda second hand"
      ]
     },
     "execution_count": 20,
     "metadata": {},
     "output_type": "execute_result"
    }
   ],
   "source": [
    "import pandas as pd\n",
    "\n",
    "# Create a DataFrame from list\n",
    "keywords_df = pd.DataFrame.from_records(keyword_list)\n",
    "keywords_df = keywords_df.rename(columns={0: \"Ad Group\",1: \"Keyword\"})\n",
    "\n",
    "keywords_df.head()"
   ]
  },
  {
   "cell_type": "code",
   "execution_count": 21,
   "metadata": {},
   "outputs": [],
   "source": [
    "keywords_df['Campaign']='SEM Cars'\n",
    "keywords_df['Criterion Type']='Exact'"
   ]
  },
  {
   "cell_type": "code",
   "execution_count": 22,
   "metadata": {},
   "outputs": [],
   "source": [
    "# Make a copy of the keywords DataFrame\n",
    "keywords_phrase = keywords_df.copy()\n",
    "\n",
    "# Change criterion type match to phrase\n",
    "\n",
    "keywords_phrase['Criterion Type']='Phrase'\n",
    "\n",
    "# Append the DataFrames\n",
    "keywords_df_final = keywords_df.append(keywords_phrase)"
   ]
  },
  {
   "cell_type": "code",
   "execution_count": 27,
   "metadata": {},
   "outputs": [
    {
     "data": {
      "text/html": [
       "<div>\n",
       "<style scoped>\n",
       "    .dataframe tbody tr th:only-of-type {\n",
       "        vertical-align: middle;\n",
       "    }\n",
       "\n",
       "    .dataframe tbody tr th {\n",
       "        vertical-align: top;\n",
       "    }\n",
       "\n",
       "    .dataframe thead th {\n",
       "        text-align: right;\n",
       "    }\n",
       "</style>\n",
       "<table border=\"1\" class=\"dataframe\">\n",
       "  <thead>\n",
       "    <tr style=\"text-align: right;\">\n",
       "      <th></th>\n",
       "      <th>Ad Group</th>\n",
       "      <th>Keyword</th>\n",
       "      <th>Campaign</th>\n",
       "      <th>Criterion Type</th>\n",
       "    </tr>\n",
       "  </thead>\n",
       "  <tbody>\n",
       "    <tr>\n",
       "      <th>30</th>\n",
       "      <td>honda civic</td>\n",
       "      <td>honda civic price</td>\n",
       "      <td>SEM Cars</td>\n",
       "      <td>Phrase</td>\n",
       "    </tr>\n",
       "    <tr>\n",
       "      <th>38</th>\n",
       "      <td>honda civic</td>\n",
       "      <td>honda civic low</td>\n",
       "      <td>SEM Cars</td>\n",
       "      <td>Exact</td>\n",
       "    </tr>\n",
       "    <tr>\n",
       "      <th>23</th>\n",
       "      <td>honda accord</td>\n",
       "      <td>lowest price honda accord</td>\n",
       "      <td>SEM Cars</td>\n",
       "      <td>Exact</td>\n",
       "    </tr>\n",
       "    <tr>\n",
       "      <th>8</th>\n",
       "      <td>honda</td>\n",
       "      <td>honda lowest price</td>\n",
       "      <td>SEM Cars</td>\n",
       "      <td>Exact</td>\n",
       "    </tr>\n",
       "    <tr>\n",
       "      <th>7</th>\n",
       "      <td>honda</td>\n",
       "      <td>cheap honda</td>\n",
       "      <td>SEM Cars</td>\n",
       "      <td>Exact</td>\n",
       "    </tr>\n",
       "    <tr>\n",
       "      <th>28</th>\n",
       "      <td>honda civic</td>\n",
       "      <td>honda civic buy</td>\n",
       "      <td>SEM Cars</td>\n",
       "      <td>Exact</td>\n",
       "    </tr>\n",
       "    <tr>\n",
       "      <th>41</th>\n",
       "      <td>honda civic</td>\n",
       "      <td>used honda civic</td>\n",
       "      <td>SEM Cars</td>\n",
       "      <td>Phrase</td>\n",
       "    </tr>\n",
       "    <tr>\n",
       "      <th>24</th>\n",
       "      <td>honda accord</td>\n",
       "      <td>honda accord low</td>\n",
       "      <td>SEM Cars</td>\n",
       "      <td>Phrase</td>\n",
       "    </tr>\n",
       "    <tr>\n",
       "      <th>16</th>\n",
       "      <td>honda accord</td>\n",
       "      <td>honda accord price</td>\n",
       "      <td>SEM Cars</td>\n",
       "      <td>Phrase</td>\n",
       "    </tr>\n",
       "    <tr>\n",
       "      <th>42</th>\n",
       "      <td>toyota</td>\n",
       "      <td>toyota buy</td>\n",
       "      <td>SEM Cars</td>\n",
       "      <td>Phrase</td>\n",
       "    </tr>\n",
       "    <tr>\n",
       "      <th>68</th>\n",
       "      <td>toyota camry</td>\n",
       "      <td>toyota camry used</td>\n",
       "      <td>SEM Cars</td>\n",
       "      <td>Phrase</td>\n",
       "    </tr>\n",
       "    <tr>\n",
       "      <th>45</th>\n",
       "      <td>toyota</td>\n",
       "      <td>price toyota</td>\n",
       "      <td>SEM Cars</td>\n",
       "      <td>Phrase</td>\n",
       "    </tr>\n",
       "    <tr>\n",
       "      <th>7</th>\n",
       "      <td>honda</td>\n",
       "      <td>cheap honda</td>\n",
       "      <td>SEM Cars</td>\n",
       "      <td>Phrase</td>\n",
       "    </tr>\n",
       "    <tr>\n",
       "      <th>56</th>\n",
       "      <td>toyota camry</td>\n",
       "      <td>toyota camry buy</td>\n",
       "      <td>SEM Cars</td>\n",
       "      <td>Exact</td>\n",
       "    </tr>\n",
       "    <tr>\n",
       "      <th>62</th>\n",
       "      <td>toyota camry</td>\n",
       "      <td>toyota camry cheap</td>\n",
       "      <td>SEM Cars</td>\n",
       "      <td>Exact</td>\n",
       "    </tr>\n",
       "  </tbody>\n",
       "</table>\n",
       "</div>"
      ],
      "text/plain": [
       "        Ad Group                    Keyword  Campaign Criterion Type\n",
       "30   honda civic          honda civic price  SEM Cars         Phrase\n",
       "38   honda civic            honda civic low  SEM Cars          Exact\n",
       "23  honda accord  lowest price honda accord  SEM Cars          Exact\n",
       "8          honda         honda lowest price  SEM Cars          Exact\n",
       "7          honda                cheap honda  SEM Cars          Exact\n",
       "28   honda civic            honda civic buy  SEM Cars          Exact\n",
       "41   honda civic           used honda civic  SEM Cars         Phrase\n",
       "24  honda accord           honda accord low  SEM Cars         Phrase\n",
       "16  honda accord         honda accord price  SEM Cars         Phrase\n",
       "42        toyota                 toyota buy  SEM Cars         Phrase\n",
       "68  toyota camry          toyota camry used  SEM Cars         Phrase\n",
       "45        toyota               price toyota  SEM Cars         Phrase\n",
       "7          honda                cheap honda  SEM Cars         Phrase\n",
       "56  toyota camry           toyota camry buy  SEM Cars          Exact\n",
       "62  toyota camry         toyota camry cheap  SEM Cars          Exact"
      ]
     },
     "execution_count": 27,
     "metadata": {},
     "output_type": "execute_result"
    }
   ],
   "source": [
    "keywords_df_final.sample(15)"
   ]
  },
  {
   "cell_type": "code",
   "execution_count": 24,
   "metadata": {},
   "outputs": [
    {
     "name": "stdout",
     "output_type": "stream",
     "text": [
      "Ad Group      Criterion Type\n",
      "honda         Exact             14\n",
      "              Phrase            14\n",
      "honda accord  Exact             14\n",
      "              Phrase            14\n",
      "honda civic   Exact             14\n",
      "              Phrase            14\n",
      "toyota        Exact             14\n",
      "              Phrase            14\n",
      "toyota camry  Exact             14\n",
      "              Phrase            14\n",
      "Name: Keyword, dtype: int64\n"
     ]
    }
   ],
   "source": [
    "keywords_df.to_csv('/Users/praga/Downloads/keywords.csv', index=False)\n",
    "# View a summary of our campaign work\n",
    "summary = keywords_df_final.groupby(['Ad Group', 'Criterion Type'])['Keyword'].count()\n",
    "print(summary)"
   ]
  },
  {
   "cell_type": "markdown",
   "metadata": {},
   "source": [
    "# Generate ads for search engine marketing campaigns"
   ]
  },
  {
   "cell_type": "markdown",
   "metadata": {},
   "source": [
    "Utilizing Python, this is a recipe that shows how to generate differnent ad templates for our campaigns and ad groups.\n",
    "\n"
   ]
  },
  {
   "cell_type": "markdown",
   "metadata": {},
   "source": [
    "### Start by first getting a list of all the possible landing pages that are fit to be used in our campaigns."
   ]
  },
  {
   "cell_type": "markdown",
   "metadata": {},
   "source": [
    "We should also have the title of the landing page (product name) as well. Ideally, we should have them in a list of tuples like this:"
   ]
  },
  {
   "cell_type": "code",
   "execution_count": 28,
   "metadata": {},
   "outputs": [],
   "source": [
    "pages_products = [\n",
    "('http://example.com/?make=toyota&model=camry', 'toyota camry'),\n",
    "('http://example.com/?make=toyota&model=corolla','toyota corolla'),\n",
    "('http://example.com/?make=toyota&model=','toyota'),\n",
    "('http://example.com/?make=honda&model=civic','honda civic'),\n",
    "('http://example.com/?make=honda&model=','honda'),\n",
    "    ]"
   ]
  },
  {
   "cell_type": "code",
   "execution_count": 54,
   "metadata": {},
   "outputs": [],
   "source": [
    "ads_list = [['Campaign', 'Ad Group', 'Headline 1', 'Headline 2', 'Description', 'Final URL']]\n",
    "\n",
    "for page, adgroup in pages_products:\n",
    "    row = [\n",
    "        'SEM Cars',\n",
    "        adgroup,\n",
    "        adgroup +' '+'for Sale',\n",
    "        'Great Prices and Options',\n",
    "        'Browse Over 100,000 Cars. Book Your Free Test Drive',\n",
    "        page\n",
    "    ]\n",
    "    ads_list.append(row)\n",
    "\n",
    "    row = [\n",
    "        'SEM Cars',\n",
    "        adgroup,\n",
    "        'Second Hand'+' '+adgroup,\n",
    "        'Great Prices and Options',\n",
    "        'Browse Over 100,000 Cars. Book Your Free Test Drive',\n",
    "        page\n",
    "    ]\n",
    "    ads_list.append(row)\n"
   ]
  },
  {
   "cell_type": "code",
   "execution_count": 71,
   "metadata": {},
   "outputs": [
    {
     "data": {
      "text/html": [
       "<div>\n",
       "<style scoped>\n",
       "    .dataframe tbody tr th:only-of-type {\n",
       "        vertical-align: middle;\n",
       "    }\n",
       "\n",
       "    .dataframe tbody tr th {\n",
       "        vertical-align: top;\n",
       "    }\n",
       "\n",
       "    .dataframe thead th {\n",
       "        text-align: right;\n",
       "    }\n",
       "</style>\n",
       "<table border=\"1\" class=\"dataframe\">\n",
       "  <thead>\n",
       "    <tr style=\"text-align: right;\">\n",
       "      <th></th>\n",
       "      <th>Description</th>\n",
       "      <th>Campaign</th>\n",
       "      <th>Headline 2</th>\n",
       "      <th>Ad Group</th>\n",
       "      <th>Headline 1</th>\n",
       "      <th>Final Url</th>\n",
       "    </tr>\n",
       "  </thead>\n",
       "  <tbody>\n",
       "    <tr>\n",
       "      <th>1</th>\n",
       "      <td>SEM Cars</td>\n",
       "      <td>toyota camry</td>\n",
       "      <td>toyota camry for Sale</td>\n",
       "      <td>Great Prices and Options</td>\n",
       "      <td>Browse Over 100,000 Cars. Book Your Free Test ...</td>\n",
       "      <td>http://example.com/?make=toyota&amp;model=camry</td>\n",
       "    </tr>\n",
       "    <tr>\n",
       "      <th>2</th>\n",
       "      <td>SEM Cars</td>\n",
       "      <td>toyota camry</td>\n",
       "      <td>Second Hand toyota camry</td>\n",
       "      <td>Great Prices and Options</td>\n",
       "      <td>Browse Over 100,000 Cars. Book Your Free Test ...</td>\n",
       "      <td>http://example.com/?make=toyota&amp;model=camry</td>\n",
       "    </tr>\n",
       "    <tr>\n",
       "      <th>3</th>\n",
       "      <td>SEM Cars</td>\n",
       "      <td>toyota corolla</td>\n",
       "      <td>toyota corolla for Sale</td>\n",
       "      <td>Great Prices and Options</td>\n",
       "      <td>Browse Over 100,000 Cars. Book Your Free Test ...</td>\n",
       "      <td>http://example.com/?make=toyota&amp;model=corolla</td>\n",
       "    </tr>\n",
       "    <tr>\n",
       "      <th>4</th>\n",
       "      <td>SEM Cars</td>\n",
       "      <td>toyota corolla</td>\n",
       "      <td>Second Hand toyota corolla</td>\n",
       "      <td>Great Prices and Options</td>\n",
       "      <td>Browse Over 100,000 Cars. Book Your Free Test ...</td>\n",
       "      <td>http://example.com/?make=toyota&amp;model=corolla</td>\n",
       "    </tr>\n",
       "    <tr>\n",
       "      <th>5</th>\n",
       "      <td>SEM Cars</td>\n",
       "      <td>toyota</td>\n",
       "      <td>toyota for Sale</td>\n",
       "      <td>Great Prices and Options</td>\n",
       "      <td>Browse Over 100,000 Cars. Book Your Free Test ...</td>\n",
       "      <td>http://example.com/?make=toyota&amp;model=</td>\n",
       "    </tr>\n",
       "    <tr>\n",
       "      <th>6</th>\n",
       "      <td>SEM Cars</td>\n",
       "      <td>toyota</td>\n",
       "      <td>Second Hand toyota</td>\n",
       "      <td>Great Prices and Options</td>\n",
       "      <td>Browse Over 100,000 Cars. Book Your Free Test ...</td>\n",
       "      <td>http://example.com/?make=toyota&amp;model=</td>\n",
       "    </tr>\n",
       "    <tr>\n",
       "      <th>7</th>\n",
       "      <td>SEM Cars</td>\n",
       "      <td>honda civic</td>\n",
       "      <td>honda civic for Sale</td>\n",
       "      <td>Great Prices and Options</td>\n",
       "      <td>Browse Over 100,000 Cars. Book Your Free Test ...</td>\n",
       "      <td>http://example.com/?make=honda&amp;model=civic</td>\n",
       "    </tr>\n",
       "  </tbody>\n",
       "</table>\n",
       "</div>"
      ],
      "text/plain": [
       "  Description        Campaign                  Headline 2  \\\n",
       "1    SEM Cars    toyota camry       toyota camry for Sale   \n",
       "2    SEM Cars    toyota camry    Second Hand toyota camry   \n",
       "3    SEM Cars  toyota corolla     toyota corolla for Sale   \n",
       "4    SEM Cars  toyota corolla  Second Hand toyota corolla   \n",
       "5    SEM Cars          toyota             toyota for Sale   \n",
       "6    SEM Cars          toyota          Second Hand toyota   \n",
       "7    SEM Cars     honda civic        honda civic for Sale   \n",
       "\n",
       "                   Ad Group  \\\n",
       "1  Great Prices and Options   \n",
       "2  Great Prices and Options   \n",
       "3  Great Prices and Options   \n",
       "4  Great Prices and Options   \n",
       "5  Great Prices and Options   \n",
       "6  Great Prices and Options   \n",
       "7  Great Prices and Options   \n",
       "\n",
       "                                          Headline 1  \\\n",
       "1  Browse Over 100,000 Cars. Book Your Free Test ...   \n",
       "2  Browse Over 100,000 Cars. Book Your Free Test ...   \n",
       "3  Browse Over 100,000 Cars. Book Your Free Test ...   \n",
       "4  Browse Over 100,000 Cars. Book Your Free Test ...   \n",
       "5  Browse Over 100,000 Cars. Book Your Free Test ...   \n",
       "6  Browse Over 100,000 Cars. Book Your Free Test ...   \n",
       "7  Browse Over 100,000 Cars. Book Your Free Test ...   \n",
       "\n",
       "                                       Final Url  \n",
       "1    http://example.com/?make=toyota&model=camry  \n",
       "2    http://example.com/?make=toyota&model=camry  \n",
       "3  http://example.com/?make=toyota&model=corolla  \n",
       "4  http://example.com/?make=toyota&model=corolla  \n",
       "5         http://example.com/?make=toyota&model=  \n",
       "6         http://example.com/?make=toyota&model=  \n",
       "7     http://example.com/?make=honda&model=civic  "
      ]
     },
     "execution_count": 71,
     "metadata": {},
     "output_type": "execute_result"
    }
   ],
   "source": [
    "ads=pd.DataFrame.from_records(ads_list,columns={'Campaign','Ad Group','Headline 1','Headline 2','Description','Final Url'})\n",
    "ads=ads.loc[1:]\n",
    "ads.head(7)"
   ]
  },
  {
   "cell_type": "code",
   "execution_count": 72,
   "metadata": {},
   "outputs": [],
   "source": [
    "ads.to_csv('/Users/praga/Downloads/ads.csv', index=False)"
   ]
  }
 ],
 "metadata": {
  "kernelspec": {
   "display_name": "Python 2",
   "language": "python",
   "name": "python2"
  },
  "language_info": {
   "codemirror_mode": {
    "name": "ipython",
    "version": 2
   },
   "file_extension": ".py",
   "mimetype": "text/x-python",
   "name": "python",
   "nbconvert_exporter": "python",
   "pygments_lexer": "ipython2",
   "version": "2.7.14"
  }
 },
 "nbformat": 4,
 "nbformat_minor": 2
}
